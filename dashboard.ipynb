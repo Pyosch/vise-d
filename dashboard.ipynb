{
 "cells": [
  {
   "cell_type": "markdown",
   "metadata": {},
   "source": []
  },
  {
   "cell_type": "code",
   "execution_count": 3,
   "metadata": {},
   "outputs": [],
   "source": [
    "# Import necessary libraries\n",
    "import dash\n",
    "from dash import dcc, html\n",
    "from dash.dependencies import Input, Output\n",
    "import plotly.express as px\n",
    "\n",
    "import pandas as pd\n",
    "import sqlite3\n",
    "import atexit\n"
   ]
  },
  {
   "cell_type": "code",
   "execution_count": 4,
   "metadata": {},
   "outputs": [
    {
     "data": {
      "text/html": [
       "\n",
       "        <iframe\n",
       "            width=\"100%\"\n",
       "            height=\"650\"\n",
       "            src=\"http://127.0.0.1:8050/\"\n",
       "            frameborder=\"0\"\n",
       "            allowfullscreen\n",
       "            \n",
       "        ></iframe>\n",
       "        "
      ],
      "text/plain": [
       "<IPython.lib.display.IFrame at 0x1c8b1892cd0>"
      ]
     },
     "metadata": {},
     "output_type": "display_data"
    }
   ],
   "source": [
    "# Connect to the SQL database\n",
    "# conn = sqlite3.connect('data/240603_database sample.db', check_same_thread=False)\n",
    "# database_table = 'merge'\n",
    "\n",
    "conn = sqlite3.connect('data/240912_inputs_online_tool.db', check_same_thread=False)\n",
    "database_table = 'inputs_online_tool'\n",
    "\n",
    "# Register a function to close the connection when the app shuts down\n",
    "def close_db():\n",
    "    conn.close()\n",
    "\n",
    "atexit.register(close_db)\n",
    "\n",
    "# Fetch data from the database\n",
    "L_LIMIT = 0\n",
    "U_LIMIT = 1_000\n",
    "query = f\"SELECT * FROM {database_table} LIMIT {L_LIMIT}, {U_LIMIT}\"\n",
    "# query = f\"SELECT * FROM inputs_online_tool LIMIT {L_LIMIT}, {U_LIMIT}\"\n",
    "df = pd.read_sql_query(query, conn)\n",
    "\n",
    "# Create the Dash app\n",
    "app = dash.Dash(__name__)\n",
    "\n",
    "# Define the layout of the dashboard\n",
    "app.layout = html.Div(\n",
    "    children=[\n",
    "        html.H1(\"VISE-D: Data Visualization Dashboard\"),\n",
    "        html.H3(\"EV Penetration:\"),\n",
    "        dcc.Dropdown(options=[{'label': i, 'value': i} for i in df.diffusion_evs.unique()],\n",
    "                     value='30', \n",
    "                     id='ev-dropdown'),\n",
    "        html.H3(\"Curtailment Strategy:\"),\n",
    "        dcc.Dropdown(options=[{'label': i, 'value': i} for i in df.curtailment.unique()],\n",
    "                     value='none',\n",
    "                     id='curtailment-dropdown'),\n",
    "        dcc.Graph(id=\"data-graph\"),\n",
    "        dcc.Graph(id='violin-graph')\n",
    "    ]\n",
    ")\n",
    "\n",
    "@app.callback(\n",
    "    Output('data-graph', 'figure'),\n",
    "    [Input('ev-dropdown', 'value'),\n",
    "     Input('curtailment-dropdown', 'value')]\n",
    ")\n",
    "def update_graph(ev_penetration, curtailment):\n",
    "    query = f\"SELECT * FROM {database_table} WHERE diffusion_evs = '{ev_penetration}' AND curtailment = '{curtailment}' LIMIT {L_LIMIT}, {U_LIMIT}\"\n",
    "    df = pd.read_sql_query(query, conn)\n",
    "    fig = px.line(df, x=df.index, y='value', title=f'Data Visualization (EV Penetration: {ev_penetration}%, Curtailment: {curtailment})')\n",
    "    return fig\n",
    "\n",
    "@app.callback(\n",
    "    Output('violin-graph', 'figure'),\n",
    "    [Input('ev-dropdown', 'value'),\n",
    "     Input('curtailment-dropdown', 'value')]\n",
    ")\n",
    "def update_violin_plot(ev_penetration, curtailment):\n",
    "    query = f\"SELECT * FROM {database_table} WHERE diffusion_evs = '{ev_penetration}' AND curtailment = '{curtailment}' LIMIT {L_LIMIT}, {U_LIMIT}\"\n",
    "    df = pd.read_sql_query(query, conn)\n",
    "    fig = px.violin(df, y='value', box=True, points=\"all\", title=f'Violin plot (EV Penetration: {ev_penetration}%, Curtailment: {curtailment})')\n",
    "    return fig\n",
    "\n",
    "# Run the app\n",
    "if __name__ == '__main__':\n",
    "    app.run_server(debug=True)"
   ]
  }
 ],
 "metadata": {
  "kernelspec": {
   "display_name": "vise",
   "language": "python",
   "name": "python3"
  },
  "language_info": {
   "codemirror_mode": {
    "name": "ipython",
    "version": 3
   },
   "file_extension": ".py",
   "mimetype": "text/x-python",
   "name": "python",
   "nbconvert_exporter": "python",
   "pygments_lexer": "ipython3",
   "version": "3.11.5"
  }
 },
 "nbformat": 4,
 "nbformat_minor": 2
}
